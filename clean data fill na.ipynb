{
 "cells": [
  {
   "cell_type": "markdown",
   "metadata": {},
   "source": [
    "### Build all the candidate variables for Project 2\n",
    "\n",
    "Include two risk table variables: likelihood of fraud for that day of the week and for that state.\n",
    "\n",
    "Don’t use the OOT data to calculate the risk tables.\n",
    "\n",
    "Provide basic statistics for all candidate variables:\n",
    "Min, max, mean, stdev\n",
    "\n",
    "Then get started with your feature selection code, results "
   ]
  },
  {
   "cell_type": "code",
   "execution_count": 34,
   "metadata": {},
   "outputs": [],
   "source": [
    "import pandas as pd\n",
    "import numpy as np\n",
    "np.set_printoptions(suppress=True)\n",
    "import scipy.stats as sps\n",
    "import matplotlib.pyplot as plt\n",
    "import seaborn as sns\n",
    "import datetime as dt\n",
    "from math import log10\n",
    "%matplotlib inline\n",
    "start_time = pd.datetime.now()\n",
    "import copy\n",
    "import datetime\n",
    "import scipy.stats as stats"
   ]
  },
  {
   "cell_type": "code",
   "execution_count": 8,
   "metadata": {},
   "outputs": [],
   "source": [
    "mydata = pd.read_excel('card transactions.xlsx') #,converters={'Merchnum': lambda x: str(x)"
   ]
  },
  {
   "cell_type": "code",
   "execution_count": 14,
   "metadata": {},
   "outputs": [
    {
     "data": {
      "text/plain": [
       "Index(['Recnum', 'Cardnum', 'Date', 'Merchnum', 'Merch description',\n",
       "       'Merch state', 'Merch zip', 'Transtype', 'Amount', 'Fraud'],\n",
       "      dtype='object')"
      ]
     },
     "execution_count": 14,
     "metadata": {},
     "output_type": "execute_result"
    }
   ],
   "source": [
    "mydata.columns"
   ]
  },
  {
   "cell_type": "markdown",
   "metadata": {},
   "source": [
    "### Remove \n",
    "\n",
    "1. Single large transaction outlier\n",
    "\n",
    "2. All but the “P” type transactions"
   ]
  },
  {
   "cell_type": "code",
   "execution_count": 4,
   "metadata": {},
   "outputs": [
    {
     "data": {
      "text/plain": [
       "52714    3102045.53\n",
       "47339      47900.00\n",
       "59516      30372.46\n",
       "80886      28392.84\n",
       "89673      27218.00\n",
       "            ...    \n",
       "47165          0.08\n",
       "57855          0.02\n",
       "91179          0.01\n",
       "56124          0.01\n",
       "78387          0.01\n",
       "Name: Amount, Length: 96753, dtype: float64"
      ]
     },
     "execution_count": 4,
     "metadata": {},
     "output_type": "execute_result"
    },
    {
     "data": {
      "image/png": "[encoded data removed]",
      "text/plain": [
       "<Figure size 432x288 with 1 Axes>"
      ]
     },
     "metadata": {
      "needs_background": "light"
     },
     "output_type": "display_data"
    }
   ],
   "source": [
    "#1. Remove Single large transaction outlier\n",
    "np.log10(mydata['Amount']).hist(bins=20)\n",
    "plt.yscale('log')\n",
    "\n",
    "mydata['Amount'].sort_values(ascending = False)"
   ]
  },
  {
   "cell_type": "markdown",
   "metadata": {},
   "source": [
    "#### Only one outlier in the amount, 3102045.53, so we remove this one."
   ]
  },
  {
   "cell_type": "code",
   "execution_count": 9,
   "metadata": {},
   "outputs": [],
   "source": [
    "df=mydata[mydata['Amount']!=3102045.53]"
   ]
  },
  {
   "cell_type": "code",
   "execution_count": 10,
   "metadata": {},
   "outputs": [],
   "source": [
    "# Remove all but the “P” type transactions\n",
    "df=df[df['Transtype']=='P']"
   ]
  },
  {
   "cell_type": "code",
   "execution_count": 15,
   "metadata": {},
   "outputs": [
    {
     "data": {
      "text/html": [
       "<div>\n",
       "<style scoped>\n",
       "    .dataframe tbody tr th:only-of-type {\n",
       "        vertical-align: middle;\n",
       "    }\n",
       "\n",
       "    .dataframe tbody tr th {\n",
       "        vertical-align: top;\n",
       "    }\n",
       "\n",
       "    .dataframe thead th {\n",
       "        text-align: right;\n",
       "    }\n",
       "</style>\n",
       "<table border=\"1\" class=\"dataframe\">\n",
       "  <thead>\n",
       "    <tr style=\"text-align: right;\">\n",
       "      <th></th>\n",
       "      <th>Recnum</th>\n",
       "      <th>Cardnum</th>\n",
       "      <th>Merch zip</th>\n",
       "      <th>Amount</th>\n",
       "      <th>Fraud</th>\n",
       "    </tr>\n",
       "  </thead>\n",
       "  <tbody>\n",
       "    <tr>\n",
       "      <th>count</th>\n",
       "      <td>96397.000000</td>\n",
       "      <td>9.639700e+04</td>\n",
       "      <td>92097.000000</td>\n",
       "      <td>96397.000000</td>\n",
       "      <td>96397.000000</td>\n",
       "    </tr>\n",
       "    <tr>\n",
       "      <th>mean</th>\n",
       "      <td>48365.481820</td>\n",
       "      <td>5.142202e+09</td>\n",
       "      <td>44706.596740</td>\n",
       "      <td>395.858494</td>\n",
       "      <td>0.010986</td>\n",
       "    </tr>\n",
       "    <tr>\n",
       "      <th>std</th>\n",
       "      <td>27945.003883</td>\n",
       "      <td>5.565825e+04</td>\n",
       "      <td>28369.537945</td>\n",
       "      <td>832.330197</td>\n",
       "      <td>0.104236</td>\n",
       "    </tr>\n",
       "    <tr>\n",
       "      <th>min</th>\n",
       "      <td>1.000000</td>\n",
       "      <td>5.142110e+09</td>\n",
       "      <td>1.000000</td>\n",
       "      <td>0.010000</td>\n",
       "      <td>0.000000</td>\n",
       "    </tr>\n",
       "    <tr>\n",
       "      <th>25%</th>\n",
       "      <td>24154.000000</td>\n",
       "      <td>5.142152e+09</td>\n",
       "      <td>20855.000000</td>\n",
       "      <td>33.460000</td>\n",
       "      <td>0.000000</td>\n",
       "    </tr>\n",
       "    <tr>\n",
       "      <th>50%</th>\n",
       "      <td>48365.000000</td>\n",
       "      <td>5.142196e+09</td>\n",
       "      <td>38118.000000</td>\n",
       "      <td>137.980000</td>\n",
       "      <td>0.000000</td>\n",
       "    </tr>\n",
       "    <tr>\n",
       "      <th>75%</th>\n",
       "      <td>72578.000000</td>\n",
       "      <td>5.142245e+09</td>\n",
       "      <td>63103.000000</td>\n",
       "      <td>428.250000</td>\n",
       "      <td>0.000000</td>\n",
       "    </tr>\n",
       "    <tr>\n",
       "      <th>max</th>\n",
       "      <td>96753.000000</td>\n",
       "      <td>5.142847e+09</td>\n",
       "      <td>99999.000000</td>\n",
       "      <td>47900.000000</td>\n",
       "      <td>1.000000</td>\n",
       "    </tr>\n",
       "  </tbody>\n",
       "</table>\n",
       "</div>"
      ],
      "text/plain": [
       "             Recnum       Cardnum     Merch zip        Amount         Fraud\n",
       "count  96397.000000  9.639700e+04  92097.000000  96397.000000  96397.000000\n",
       "mean   48365.481820  5.142202e+09  44706.596740    395.858494      0.010986\n",
       "std    27945.003883  5.565825e+04  28369.537945    832.330197      0.104236\n",
       "min        1.000000  5.142110e+09      1.000000      0.010000      0.000000\n",
       "25%    24154.000000  5.142152e+09  20855.000000     33.460000      0.000000\n",
       "50%    48365.000000  5.142196e+09  38118.000000    137.980000      0.000000\n",
       "75%    72578.000000  5.142245e+09  63103.000000    428.250000      0.000000\n",
       "max    96753.000000  5.142847e+09  99999.000000  47900.000000      1.000000"
      ]
     },
     "execution_count": 15,
     "metadata": {},
     "output_type": "execute_result"
    }
   ],
   "source": [
    "df.describe()"
   ]
  },
  {
   "cell_type": "code",
   "execution_count": 13,
   "metadata": {},
   "outputs": [
    {
     "data": {
      "text/plain": [
       "30370    PENNE9 CO #68\n",
       "6534     PENNE9 CO #05\n",
       "38452      JCPENNE9 CO\n",
       "53557      JCPENNE9 CO\n",
       "44789      JCPENNE9 CO\n",
       "             ...      \n",
       "96621              NaN\n",
       "96651              NaN\n",
       "96689              NaN\n",
       "96720              NaN\n",
       "96730              NaN\n",
       "Name: Merchnum, Length: 96397, dtype: object"
      ]
     },
     "execution_count": 13,
     "metadata": {},
     "output_type": "execute_result"
    }
   ],
   "source": [
    "df['Merchnum'].sort_values(ascending=False)"
   ]
  },
  {
   "cell_type": "code",
   "execution_count": 18,
   "metadata": {},
   "outputs": [],
   "source": [
    "df['Merchnum']=df['Merchnum'].replace('0',np.nan)"
   ]
  },
  {
   "cell_type": "code",
   "execution_count": 21,
   "metadata": {},
   "outputs": [
    {
     "name": "stdout",
     "output_type": "stream",
     "text": [
      "Recnum                  0\n",
      "Cardnum                 0\n",
      "Date                    0\n",
      "Merchnum             3251\n",
      "Merch description       0\n",
      "Merch state          1020\n",
      "Merch zip            4300\n",
      "Transtype               0\n",
      "Amount                  0\n",
      "Fraud                   0\n",
      "dtype: int64\n"
     ]
    }
   ],
   "source": [
    "print(df.isna().sum()) "
   ]
  },
  {
   "cell_type": "markdown",
   "metadata": {},
   "source": [
    "### Fill na"
   ]
  },
  {
   "cell_type": "code",
   "execution_count": null,
   "metadata": {},
   "outputs": [],
   "source": [
    "#Merchnum: first fill the column with the number that has discription"
   ]
  },
  {
   "cell_type": "code",
   "execution_count": 133,
   "metadata": {},
   "outputs": [],
   "source": [
    "df_filled=copy.copy(df)"
   ]
  },
  {
   "cell_type": "code",
   "execution_count": 134,
   "metadata": {},
   "outputs": [],
   "source": [
    "#fill state\n",
    "df_filled[\"Merch state\"]= df_filled.groupby(['Merch description'])[\"Merch state\"].apply(lambda x: x.fillna(stats.mode(x)[0][0] if stats.mode(x)[0][0] != 0 else x.fillna(np.nan)))\n",
    "df_filled['Merch state']=df_filled.groupby(['Cardnum'])[\"Merch state\"].apply(lambda x: x.fillna(x.mode()[0] if not x.mode().empty else np.nan))\n",
    "df_filled[\"Merch state\"]= df_filled[\"Merch state\"].fillna(df_filled[\"Merch state\"].mode()[0]) "
   ]
  },
  {
   "cell_type": "code",
   "execution_count": 137,
   "metadata": {},
   "outputs": [],
   "source": [
    "#fill zip\n",
    "df_filled[\"Merch zip\"]= df_filled.groupby(['Merch description'])[\"Merch zip\"].apply(lambda x: x.fillna(x.mode()[0] if not x.mode().empty else np.nan))\n",
    "df_filled[\"Merch zip\"]= df_filled.groupby(['Merch state'])[\"Merch zip\"].apply(lambda x: x.fillna(x.mode()[0] if not x.mode().empty else np.nan))\n",
    "df_filled[\"Merch zip\"]= df_filled[\"Merch zip\"].fillna(df_filled[\"Merch zip\"].mode()[0]) "
   ]
  },
  {
   "cell_type": "code",
   "execution_count": 138,
   "metadata": {},
   "outputs": [],
   "source": [
    "#fill Merchnum: \n",
    "df_filled[\"Merchnum\"]= df_filled.groupby(['Merch description'])[\"Merchnum\"].apply(lambda x: x.fillna(x.mode()[0] if not x.mode().empty else np.nan))\n",
    "df_filled[\"Merchnum\"]= df_filled.groupby(['Merch zip'])[\"Merchnum\"].apply(lambda x: x.fillna(x.mode()[0] if not x.mode().empty else np.nan))\n",
    "df_filled[\"Merchnum\"]= df_filled.groupby(['Merch state'])[\"Merchnum\"].apply(lambda x: x.fillna(x.mode()[0] if not x.mode().empty else np.nan))"
   ]
  },
  {
   "cell_type": "code",
   "execution_count": 139,
   "metadata": {},
   "outputs": [
    {
     "data": {
      "text/plain": [
       "Recnum               0\n",
       "Cardnum              0\n",
       "Date                 0\n",
       "Merchnum             0\n",
       "Merch description    0\n",
       "Merch state          0\n",
       "Merch zip            0\n",
       "Transtype            0\n",
       "Amount               0\n",
       "Fraud                0\n",
       "dtype: int64"
      ]
     },
     "execution_count": 139,
     "metadata": {},
     "output_type": "execute_result"
    }
   ],
   "source": [
    "df_filled.isna().sum()"
   ]
  },
  {
   "cell_type": "code",
   "execution_count": null,
   "metadata": {},
   "outputs": [],
   "source": [
    "df_filled.to_csv(\"df_filled.csv\")"
   ]
  }
 ],
 "metadata": {
  "kernelspec": {
   "display_name": "Python 3",
   "language": "python",
   "name": "python3"
  },
  "language_info": {
   "codemirror_mode": {
    "name": "ipython",
    "version": 3
   },
   "file_extension": ".py",
   "mimetype": "text/x-python",
   "name": "python",
   "nbconvert_exporter": "python",
   "pygments_lexer": "ipython3",
   "version": "3.6.9"
  }
 },
 "nbformat": 4,
 "nbformat_minor": 4
}
