{
 "cells": [
  {
   "cell_type": "code",
   "execution_count": 1,
   "metadata": {},
   "outputs": [],
   "source": [
    "import pandas as pd\n",
    "import numpy as np\n",
    "np.set_printoptions(suppress=True)\n",
    "import scipy.stats as sps\n",
    "import matplotlib.pyplot as plt\n",
    "import seaborn as sns\n",
    "import datetime as dt\n",
    "from math import log10\n",
    "%matplotlib inline\n",
    "start_time = pd.datetime.now()\n",
    "import copy\n",
    "import datetime\n",
    "from sklearn.model_selection import train_test_split\n",
    "from sklearn.preprocessing import StandardScaler\n",
    "from scipy import stats\n",
    "from sklearn.feature_selection import RFECV\n",
    "from sklearn.linear_model import LogisticRegression\n",
    "from sklearn.ensemble import RandomForestClassifier\n",
    "from sklearn.metrics import confusion_matrix, classification_report\n",
    "from sklearn.model_selection import GridSearchCV,RandomizedSearchCV\n",
    "from sklearn import metrics\n",
    "#from categroy_encoders import TargetEncoder"
   ]
  },
  {
   "cell_type": "code",
   "execution_count": 10,
   "metadata": {},
   "outputs": [],
   "source": [
    "df1=pd.read_csv('df_filled.csv',index_col=0)\n",
    "df1.Date=pd.to_datetime(df1.Date)\n",
    "df1['check_record']=df1['Recnum']\n",
    "df1['check_date']=df1['Date']"
   ]
  },
  {
   "cell_type": "code",
   "execution_count": 3,
   "metadata": {},
   "outputs": [
    {
     "data": {
      "text/plain": [
       "(96397, 12)"
      ]
     },
     "execution_count": 3,
     "metadata": {},
     "output_type": "execute_result"
    }
   ],
   "source": [
    "df1.shape"
   ]
  },
  {
   "cell_type": "markdown",
   "metadata": {},
   "source": [
    "## Create all variables\n",
    "copy a dataframe to do selfmatch"
   ]
  },
  {
   "cell_type": "code",
   "execution_count": 11,
   "metadata": {},
   "outputs": [],
   "source": [
    "#create entities:\n",
    "## card at this merchant\n",
    "df1['card_merch']=df1['Cardnum'].map(str)+df1['Merchnum'].map(str)\n",
    "## card in this zip code\n",
    "df1['card_zip']=df1['Cardnum'].map(str)+df1['Merch zip'].map(str)\n",
    "## card in this state\n",
    "df1['card_state']=df1['Cardnum'].map(str)+df1['Merch state'].map(str)\n",
    "## merchant in this zip code\n",
    "df1['merch_zip']=df1['Merchnum'].map(str)+df1['Merch zip'].map(str)\n",
    "## merchant in this state\n",
    "df1['merch_state']=df1['Merchnum'].map(str)+df1['Merch state'].map(str)"
   ]
  },
  {
   "cell_type": "code",
   "execution_count": 12,
   "metadata": {},
   "outputs": [
    {
     "data": {
      "text/plain": [
       "Index(['Recnum', 'Cardnum', 'Date', 'Merchnum', 'Merch description',\n",
       "       'Merch state', 'Merch zip', 'Transtype', 'Amount', 'Fraud',\n",
       "       'check_record', 'check_date', 'card_merch', 'card_zip', 'card_state',\n",
       "       'merch_zip', 'merch_state'],\n",
       "      dtype='object')"
      ]
     },
     "execution_count": 12,
     "metadata": {},
     "output_type": "execute_result"
    }
   ],
   "source": [
    "df1.columns"
   ]
  },
  {
   "cell_type": "code",
   "execution_count": 4,
   "metadata": {},
   "outputs": [],
   "source": [
    "df2=copy.copy(df1)"
   ]
  },
  {
   "cell_type": "markdown",
   "metadata": {},
   "source": [
    "### Days-since Variables:\n",
    "\n",
    "Current date minus date of most recent transaction with same card\\merchant\\card at this merchant\\card in this zip code\\card in this state"
   ]
  },
  {
   "cell_type": "code",
   "execution_count": 5,
   "metadata": {},
   "outputs": [],
   "source": [
    "entities=['Cardnum', 'Merchnum','card_merch', 'card_zip', 'card_state','merch_zip', 'merch_state']\n",
    "\n",
    "for entity in entities:\n",
    "    df_l = df1[['Recnum', 'Date', entity]]\n",
    "    df_r = df1[['check_record', 'check_date', entity, 'Amount']]   \n",
    "    temp = pd.merge(df_l, df_r, left_on = entity, right_on = entity)\n",
    "    # Day-since variables\n",
    "    temp1 = temp[temp.Recnum > temp.check_record][['Recnum','Date','check_date']]\\\n",
    "                                                   .groupby('Recnum')[['Date', 'check_date']].last()\n",
    "    mapper = (temp1.Date - temp1.check_date).dt.days\n",
    "    df2[entity + '_day_since'] = df2.Recnum.map(mapper)\n",
    "    df2[entity + '_day_since'].fillna((df2.Date - pd.to_datetime('2010-01-01')).dt.days, inplace = True)\n",
    "\n",
    "    "
   ]
  },
  {
   "cell_type": "markdown",
   "metadata": {},
   "source": [
    "### Frequency Variables\n",
    "Number of transactions with this card over the past \n",
    "0 day\n",
    "1 day\n",
    "3 days\n",
    "7 days\n",
    "14 days\n",
    "30 days\n"
   ]
  },
  {
   "cell_type": "code",
   "execution_count": 6,
   "metadata": {},
   "outputs": [],
   "source": [
    "time_range=[0,1,3,7,14,30]\n",
    "for entity in entities:\n",
    "    df_l = df1[['Recnum', 'Date', entity]]\n",
    "    df_r = df1[['check_record', 'check_date', entity, 'Amount']]   \n",
    "    temp = pd.merge(df_l, df_r, left_on = entity, right_on = entity)\n",
    "    for time in time_range:\n",
    "        temp2 = temp[(temp.check_date >= (temp.Date - dt.timedelta(time))) &\\\n",
    "                   (temp.Recnum >= temp.check_record)][['Recnum', entity, 'Amount']]       \n",
    "        col_name = entity + '_count_past_' + str(time)    \n",
    "        \n",
    "        # frequency variables\n",
    "        mapper2 = temp2.groupby('Recnum')[entity].count()      \n",
    "        df2[col_name] = df2.Recnum.map(mapper2)\n",
    "        \n",
    "        # amount variables\n",
    "        df2[entity+'_avg_'+str(time)]= df2.Recnum.map(temp2.groupby(['Recnum'])['Amount'].mean())\n",
    "        df2[entity+'_max_'+str(time)]= df2.Recnum.map(temp2.groupby(['Recnum'])['Amount'].max())\n",
    "        df2[entity+'_med_'+str(time)]= df2.Recnum.map(temp2.groupby(['Recnum'])['Amount'].median())\n",
    "        df2[entity+'_total_'+str(time)]= df2.Recnum.map(temp2.groupby(['Recnum'])['Amount'].sum())\n",
    "        ## amount ratio\n",
    "        df2[entity+'_actual/avg_'+str(time)]= df2.Amount/df2[entity+'_avg_'+str(time)]\n",
    "        df2[entity+'_actual/max_'+str(time)]= df2.Amount/df2[entity+'_max_'+str(time)]\n",
    "        df2[entity+'_actual/med_'+str(time)]= df2.Amount/df2[entity+'_med_'+str(time)]\n",
    "        df2[entity+'_actual/total_'+str(time)]= df2.Amount/df2[entity+'_total_'+str(time)]\n",
    "        "
   ]
  },
  {
   "cell_type": "markdown",
   "metadata": {},
   "source": [
    "### Velocity Variables\n",
    "To see if the transaction suddenly becomes frequent"
   ]
  },
  {
   "cell_type": "code",
   "execution_count": 7,
   "metadata": {},
   "outputs": [],
   "source": [
    "velocity_nominator=['Cardnum', 'Merchnum']\n",
    "for v in velocity_nominator:\n",
    "    for time in [0,1]:\n",
    "        nominators_1=v+'_count_past_'+str(time)\n",
    "        nominators_2=v+'_total_'+str(time)\n",
    "        for time2 in [7,14,30]:\n",
    "            #frequency\n",
    "            dnominators_1=v+'_count_past_'+str(time2)\n",
    "            df2[v+'_daily_number'+str(time2)]=df2[dnominators_1]/time2\n",
    "            df2[v+'_number'+str(time)+'/'+str(time2)]=df2[nominators_1]/df2[v+'_daily_number'+str(time2)]\n",
    "            df2=df2.drop(columns=[v+'_daily_number'+str(time2)])\n",
    "            #amount\n",
    "            dnominators_2=v+'_total_'+str(time2)\n",
    "            df2[v+'_daily_amt'+str(time2)]=df2[dnominators_2]/time2\n",
    "            df2[v+'_amt'+str(time)+'/'+str(time2)]=df2[nominators_2]/df2[v+'_daily_amt'+str(time2)]\n",
    "            df2=df2.drop(columns=[v+'_daily_amt'+str(time2)])"
   ]
  },
  {
   "cell_type": "code",
   "execution_count": 8,
   "metadata": {},
   "outputs": [],
   "source": [
    "df2.to_csv('df2.csv')"
   ]
  },
  {
   "cell_type": "markdown",
   "metadata": {},
   "source": [
    "### Provide basic statistics for all candidate variables:Min, max, mean, stdev"
   ]
  },
  {
   "cell_type": "code",
   "execution_count": 15,
   "metadata": {},
   "outputs": [],
   "source": [
    "a=set(df2.columns)"
   ]
  },
  {
   "cell_type": "code",
   "execution_count": 16,
   "metadata": {},
   "outputs": [],
   "source": [
    "b=set(df1.columns)-set(['Amount'])"
   ]
  },
  {
   "cell_type": "code",
   "execution_count": 17,
   "metadata": {},
   "outputs": [],
   "source": [
    "numeric_variables=list(a-b)"
   ]
  },
  {
   "cell_type": "code",
   "execution_count": 45,
   "metadata": {},
   "outputs": [],
   "source": [
    "mean=df2[numeric_variables].apply(lambda x:x.mean())\n",
    "minimum=df2[numeric_variables].apply(lambda x:x.min())"
   ]
  },
  {
   "cell_type": "code",
   "execution_count": 31,
   "metadata": {},
   "outputs": [],
   "source": [
    "variable_table={'Field name':numeric_variables,\n",
    "   'Min':0,\n",
    "   \"Max\":0,\n",
    "   \"Mean\":0,\n",
    "   \"Std\":0}\n",
    "variable_table=pd.DataFrame(variable_table)\n"
   ]
  },
  {
   "cell_type": "code",
   "execution_count": 52,
   "metadata": {},
   "outputs": [],
   "source": [
    "variable_table['Mean']=  df2[numeric_variables].apply(lambda x:x.mean()).values\n",
    "variable_table['Min']=  df2[numeric_variables].apply(lambda x:x.min()).values\n",
    "variable_table['Max']=  df2[numeric_variables].apply(lambda x:x.max()).values\n",
    "variable_table['Std']=  df2[numeric_variables].apply(lambda x:x.std()).values"
   ]
  },
  {
   "cell_type": "code",
   "execution_count": 58,
   "metadata": {},
   "outputs": [],
   "source": [
    "variable_table=variable_table.sort_values(by=['Field name'],ascending = True)"
   ]
  },
  {
   "cell_type": "code",
   "execution_count": 59,
   "metadata": {},
   "outputs": [],
   "source": [
    "variable_table.to_csv('variable_table.csv')"
   ]
  },
  {
   "cell_type": "markdown",
   "metadata": {},
   "source": [
    "### Risk table variables:\n",
    "\n",
    "Likelihood of fraud for that day of the week and for that state. \n",
    "\n",
    "#### Split the data into train/validation\n"
   ]
  },
  {
   "cell_type": "code",
   "execution_count": 4,
   "metadata": {},
   "outputs": [],
   "source": [
    "df2=pd.read_csv(\"df2.csv\",index_col=0)\n",
    "\n",
    "df2.Date=pd.to_datetime(df2.Date)"
   ]
  },
  {
   "cell_type": "code",
   "execution_count": 67,
   "metadata": {},
   "outputs": [
    {
     "data": {
      "text/plain": [
       "Index(['Recnum', 'Cardnum', 'Date', 'Merchnum', 'Merch description',\n",
       "       'Merch state', 'Merch zip', 'Transtype', 'Amount', 'Fraud',\n",
       "       'check_record', 'check_date'],\n",
       "      dtype='object')"
      ]
     },
     "execution_count": 67,
     "metadata": {},
     "output_type": "execute_result"
    }
   ],
   "source": [
    "df1.columns"
   ]
  },
  {
   "cell_type": "code",
   "execution_count": 18,
   "metadata": {},
   "outputs": [],
   "source": [
    "df2=df2.drop(columns=['card_merch', 'card_zip', 'card_state','merch_zip', 'merch_state'])\n",
    "a=set(df2.columns)\n",
    "b=set(df1.columns)\n",
    "numeric_variables=list(a-b)"
   ]
  },
  {
   "cell_type": "code",
   "execution_count": 73,
   "metadata": {},
   "outputs": [
    {
     "data": {
      "text/plain": [
       "Index(['Recnum', 'Cardnum', 'Date', 'Merchnum', 'Merch description',\n",
       "       'Merch state', 'Merch zip', 'Transtype', 'Amount', 'Fraud',\n",
       "       ...\n",
       "       'Merchnum_number0/14', 'Merchnum_amt0/14', 'Merchnum_number0/30',\n",
       "       'Merchnum_amt0/30', 'Merchnum_number1/7', 'Merchnum_amt1/7',\n",
       "       'Merchnum_number1/14', 'Merchnum_amt1/14', 'Merchnum_number1/30',\n",
       "       'Merchnum_amt1/30'],\n",
       "      dtype='object', length=421)"
      ]
     },
     "execution_count": 73,
     "metadata": {},
     "output_type": "execute_result"
    }
   ],
   "source": [
    "df2.columns"
   ]
  },
  {
   "cell_type": "code",
   "execution_count": 6,
   "metadata": {},
   "outputs": [],
   "source": [
    "df3=copy.copy(df2).reset_index(drop=True)"
   ]
  },
  {
   "cell_type": "code",
   "execution_count": 7,
   "metadata": {},
   "outputs": [],
   "source": [
    "standardizer=StandardScaler()\n",
    "df3[numeric_variables]= standardizer.fit_transform(df3[numeric_variables])"
   ]
  },
  {
   "cell_type": "code",
   "execution_count": 19,
   "metadata": {},
   "outputs": [],
   "source": [
    "df3['Weekday']=df3.Date.dt.weekday+1\n",
    "df3['Month']=df3.Date.dt.month\n",
    "mask = (df3['Month'] >= 1) & (df3['Month'] <= 10)\n",
    "mask2 = (df3['Month'] >= 11) & (df3['Month'] <= 12)\n",
    "traintest = df3.loc[mask]\n",
    "\n",
    "OOTvali=df3.loc[mask2] # real test data"
   ]
  },
  {
   "cell_type": "code",
   "execution_count": 20,
   "metadata": {},
   "outputs": [
    {
     "name": "stderr",
     "output_type": "stream",
     "text": [
      "/usr/local/lib/python3.6/dist-packages/ipykernel_launcher.py:11: SettingWithCopyWarning: \n",
      "A value is trying to be set on a copy of a slice from a DataFrame.\n",
      "Try using .loc[row_indexer,col_indexer] = value instead\n",
      "\n",
      "See the caveats in the documentation: http://pandas.pydata.org/pandas-docs/stable/user_guide/indexing.html#returning-a-view-versus-a-copy\n",
      "  # This is added back by InteractiveShellApp.init_path()\n"
     ]
    }
   ],
   "source": [
    "#Target Encoding\n",
    "#Make sure you have a statistically sufficient sample in each category, for example, at least several dozen records.\n",
    "#If not enough records in a category, use expert knowledge/judgement to group categories (e.g., combine B and C together into a single category)\n",
    "\n",
    "c=4\n",
    "nmid=20\n",
    "y_avg=traintest['Fraud'].mean()\n",
    "y_weekday_avg=traintest.groupby('Weekday')['Fraud'].mean()\n",
    "number_instance=traintest.groupby('Weekday').size()\n",
    "y_smooth=y_avg+(y_weekday_avg-y_avg)/(1+np.exp(-(number_instance-nmid)/c))\n",
    "traintest['Weekday_risk']=traintest['Weekday'].map(y_smooth)\n"
   ]
  },
  {
   "cell_type": "code",
   "execution_count": 21,
   "metadata": {},
   "outputs": [
    {
     "name": "stderr",
     "output_type": "stream",
     "text": [
      "/usr/local/lib/python3.6/dist-packages/ipykernel_launcher.py:4: SettingWithCopyWarning: \n",
      "A value is trying to be set on a copy of a slice from a DataFrame.\n",
      "Try using .loc[row_indexer,col_indexer] = value instead\n",
      "\n",
      "See the caveats in the documentation: http://pandas.pydata.org/pandas-docs/stable/user_guide/indexing.html#returning-a-view-versus-a-copy\n",
      "  after removing the cwd from sys.path.\n"
     ]
    }
   ],
   "source": [
    "y_state_avg=traintest.groupby('Merch state')['Fraud'].mean()\n",
    "number_instance_state=traintest.groupby('Merch state').size()\n",
    "y_state_smooth=y_avg+(y_state_avg-y_avg)/(1+np.exp(-(number_instance_state-nmid)/c))\n",
    "traintest['state_risk']=traintest['Merch state'].map(y_state_smooth)"
   ]
  },
  {
   "cell_type": "code",
   "execution_count": 22,
   "metadata": {},
   "outputs": [
    {
     "name": "stderr",
     "output_type": "stream",
     "text": [
      "/usr/local/lib/python3.6/dist-packages/ipykernel_launcher.py:2: SettingWithCopyWarning: \n",
      "A value is trying to be set on a copy of a slice from a DataFrame.\n",
      "Try using .loc[row_indexer,col_indexer] = value instead\n",
      "\n",
      "See the caveats in the documentation: http://pandas.pydata.org/pandas-docs/stable/user_guide/indexing.html#returning-a-view-versus-a-copy\n",
      "  \n"
     ]
    }
   ],
   "source": [
    "mapper=traintest.groupby('Merch state')['state_risk'].mean()\n",
    "OOTvali['state_risk']=OOTvali['Merch state'].map(mapper)"
   ]
  },
  {
   "cell_type": "code",
   "execution_count": 23,
   "metadata": {},
   "outputs": [
    {
     "name": "stderr",
     "output_type": "stream",
     "text": [
      "/usr/local/lib/python3.6/dist-packages/ipykernel_launcher.py:2: SettingWithCopyWarning: \n",
      "A value is trying to be set on a copy of a slice from a DataFrame.\n",
      "Try using .loc[row_indexer,col_indexer] = value instead\n",
      "\n",
      "See the caveats in the documentation: http://pandas.pydata.org/pandas-docs/stable/user_guide/indexing.html#returning-a-view-versus-a-copy\n",
      "  \n"
     ]
    }
   ],
   "source": [
    "mapper2=traintest.groupby('Weekday')['Weekday_risk'].mean()\n",
    "OOTvali['Weekday_risk']=OOTvali['Weekday'].map(mapper2)"
   ]
  },
  {
   "cell_type": "code",
   "execution_count": 133,
   "metadata": {},
   "outputs": [
    {
     "data": {
      "text/plain": [
       "Text(0, 0.5, 'risk_prop')"
      ]
     },
     "execution_count": 133,
     "metadata": {},
     "output_type": "execute_result"
    },
    {
     "data": {
      "image/png": "[encoded data removed]",
      "text/plain": [
       "<Figure size 432x288 with 1 Axes>"
      ]
     },
     "metadata": {
      "needs_background": "light"
     },
     "output_type": "display_data"
    }
   ],
   "source": [
    "#two risk table variables\n",
    "\n",
    "mapper2.plot.bar(color='darkblue')\n",
    "plt.xticks(rotation=0)\n",
    "plt.ylabel(\"risk_prop\")  "
   ]
  },
  {
   "cell_type": "code",
   "execution_count": 134,
   "metadata": {},
   "outputs": [
    {
     "data": {
      "text/plain": [
       "Text(0, 0.5, 'risk_prop')"
      ]
     },
     "execution_count": 134,
     "metadata": {},
     "output_type": "execute_result"
    },
    {
     "data": {
      "image/png": "[encoded data removed]",
      "text/plain": [
       "<Figure size 432x288 with 1 Axes>"
      ]
     },
     "metadata": {
      "needs_background": "light"
     },
     "output_type": "display_data"
    }
   ],
   "source": [
    "mapper.sort_values(ascending=False).head(10).plot.bar(color='darkblue')\n",
    "plt.xticks(rotation=0)\n",
    "plt.ylabel(\"risk_prop\")  "
   ]
  },
  {
   "cell_type": "code",
   "execution_count": 71,
   "metadata": {},
   "outputs": [
    {
     "name": "stdout",
     "output_type": "stream",
     "text": [
      "0.0\n",
      "0.08438818565400844\n",
      "0.010486297347627694\n",
      "0.008824531244205068\n"
     ]
    }
   ],
   "source": [
    "print(traintest['state_risk'].min())\n",
    "print(traintest['state_risk'].max())\n",
    "print(traintest['state_risk'].mean())\n",
    "print(traintest['state_risk'].std())"
   ]
  },
  {
   "cell_type": "code",
   "execution_count": 72,
   "metadata": {},
   "outputs": [
    {
     "name": "stdout",
     "output_type": "stream",
     "text": [
      "0.007127000817852553\n",
      "0.025994362668336986\n",
      "0.0104799333095153\n",
      "0.004293480241494261\n"
     ]
    }
   ],
   "source": [
    "print(traintest['Weekday_risk'].min())\n",
    "print(traintest['Weekday_risk'].max())\n",
    "print(traintest['Weekday_risk'].mean())\n",
    "print(traintest['Weekday_risk'].std())"
   ]
  },
  {
   "cell_type": "code",
   "execution_count": 24,
   "metadata": {},
   "outputs": [],
   "source": [
    "traintest_keep=traintest.drop(columns=['Weekday','Month','Recnum', 'Cardnum', 'Merchnum', 'Merch description',\n",
    "       'Merch state', 'Merch zip', 'Transtype', 'Amount','check_record','check_date'])"
   ]
  },
  {
   "cell_type": "code",
   "execution_count": 57,
   "metadata": {},
   "outputs": [],
   "source": [
    "traintest_keep.to_csv('traintest.csv')\n",
    "OOTvali.to_csv('ootdata.csv')"
   ]
  },
  {
   "cell_type": "code",
   "execution_count": 64,
   "metadata": {},
   "outputs": [],
   "source": [
    "## becasue we create the variable that \"over the past 30 days\" so we should cut the variables that don't include the data over past 30 days.\n",
    "\n",
    "traintest_keep2=traintest_keep[traintest_keep['Date']>pd.to_datetime('2010-01-15')]"
   ]
  },
  {
   "cell_type": "code",
   "execution_count": 5,
   "metadata": {},
   "outputs": [],
   "source": [
    "traintest_keep=pd.read_csv(\"traintest.csv\",index_col=0)\n",
    "OOTvali=pd.read_csv(\"ootdata.csv\",index_col=0)\n",
    "traintest_keep.Date=pd.to_datetime(traintest_keep.Date)\n",
    "OOTvali.Date=pd.to_datetime(OOTvali.Date)"
   ]
  },
  {
   "cell_type": "code",
   "execution_count": 6,
   "metadata": {},
   "outputs": [],
   "source": [
    "traintest_keep2=traintest_keep[traintest_keep['Date']>pd.to_datetime('2010-01-15')]"
   ]
  },
  {
   "cell_type": "markdown",
   "metadata": {},
   "source": [
    "### Filter\n"
   ]
  },
  {
   "cell_type": "code",
   "execution_count": 7,
   "metadata": {},
   "outputs": [],
   "source": [
    "goods=traintest_keep2[traintest_keep2['Fraud']==0]\n",
    "bads=traintest_keep2[traintest_keep2['Fraud']==1]"
   ]
  },
  {
   "cell_type": "code",
   "execution_count": 25,
   "metadata": {},
   "outputs": [],
   "source": [
    "numbads=len(bads)\n",
    "columns=numeric_variables+['Weekday_risk','state_risk','Fraud']"
   ]
  },
  {
   "cell_type": "code",
   "execution_count": 26,
   "metadata": {},
   "outputs": [],
   "source": [
    "ksscore=[]\n",
    "for col in columns:\n",
    "    col_score=stats.ks_2samp(goods[col], bads[col])[0]\n",
    "    ksscore.append(col_score)   "
   ]
  },
  {
   "cell_type": "code",
   "execution_count": 34,
   "metadata": {},
   "outputs": [],
   "source": [
    "FDRATE=[]\n",
    "topRows = int(round(len(traintest_keep2)*0.03))\n",
    "for col in columns:\n",
    "    temp=traintest_keep2.sort_values(col,ascending=False)\n",
    "    ex_l=temp.head(topRows)\n",
    "    ex_s=temp.tail(topRows)\n",
    "    fdr1=sum(ex_l.Fraud)/numbads\n",
    "    fdr2=sum(ex_s.Fraud)/numbads\n",
    "    fdR=max(fdr1,fdr2)\n",
    "    FDRATE.append(fdR)"
   ]
  },
  {
   "cell_type": "code",
   "execution_count": 35,
   "metadata": {},
   "outputs": [],
   "source": [
    "d= {'col_name': columns, 'ks_score': ksscore,'fraud_rate':FDRATE}\n",
    "KSFDR=pd.DataFrame(data=d)"
   ]
  },
  {
   "cell_type": "code",
   "execution_count": 36,
   "metadata": {},
   "outputs": [
    {
     "data": {
      "text/html": [
       "<div>\n",
       "<style scoped>\n",
       "    .dataframe tbody tr th:only-of-type {\n",
       "        vertical-align: middle;\n",
       "    }\n",
       "\n",
       "    .dataframe tbody tr th {\n",
       "        vertical-align: top;\n",
       "    }\n",
       "\n",
       "    .dataframe thead th {\n",
       "        text-align: right;\n",
       "    }\n",
       "</style>\n",
       "<table border=\"1\" class=\"dataframe\">\n",
       "  <thead>\n",
       "    <tr style=\"text-align: right;\">\n",
       "      <th></th>\n",
       "      <th>col_name</th>\n",
       "      <th>ks_score</th>\n",
       "      <th>fraud_rate</th>\n",
       "    </tr>\n",
       "  </thead>\n",
       "  <tbody>\n",
       "    <tr>\n",
       "      <th>263</th>\n",
       "      <td>Cardnum_number0/7</td>\n",
       "      <td>0.078556</td>\n",
       "      <td>0.071511</td>\n",
       "    </tr>\n",
       "    <tr>\n",
       "      <th>343</th>\n",
       "      <td>Merchnum_number0/30</td>\n",
       "      <td>0.105943</td>\n",
       "      <td>0.013841</td>\n",
       "    </tr>\n",
       "    <tr>\n",
       "      <th>347</th>\n",
       "      <td>card_state_actual/max_30</td>\n",
       "      <td>0.116539</td>\n",
       "      <td>0.038062</td>\n",
       "    </tr>\n",
       "    <tr>\n",
       "      <th>241</th>\n",
       "      <td>Merchnum_number1/30</td>\n",
       "      <td>0.122454</td>\n",
       "      <td>0.025375</td>\n",
       "    </tr>\n",
       "    <tr>\n",
       "      <th>38</th>\n",
       "      <td>Merchnum_number1/14</td>\n",
       "      <td>0.123388</td>\n",
       "      <td>0.026528</td>\n",
       "    </tr>\n",
       "    <tr>\n",
       "      <th>...</th>\n",
       "      <td>...</td>\n",
       "      <td>...</td>\n",
       "      <td>...</td>\n",
       "    </tr>\n",
       "    <tr>\n",
       "      <th>30</th>\n",
       "      <td>card_merch_total_3</td>\n",
       "      <td>0.676676</td>\n",
       "      <td>0.632065</td>\n",
       "    </tr>\n",
       "    <tr>\n",
       "      <th>245</th>\n",
       "      <td>card_zip_total_3</td>\n",
       "      <td>0.680122</td>\n",
       "      <td>0.643599</td>\n",
       "    </tr>\n",
       "    <tr>\n",
       "      <th>200</th>\n",
       "      <td>card_merch_total_7</td>\n",
       "      <td>0.681698</td>\n",
       "      <td>0.634371</td>\n",
       "    </tr>\n",
       "    <tr>\n",
       "      <th>147</th>\n",
       "      <td>card_zip_total_7</td>\n",
       "      <td>0.686317</td>\n",
       "      <td>0.641292</td>\n",
       "    </tr>\n",
       "    <tr>\n",
       "      <th>411</th>\n",
       "      <td>Fraud</td>\n",
       "      <td>1.000000</td>\n",
       "      <td>1.000000</td>\n",
       "    </tr>\n",
       "  </tbody>\n",
       "</table>\n",
       "<p>412 rows × 3 columns</p>\n",
       "</div>"
      ],
      "text/plain": [
       "                     col_name  ks_score  fraud_rate\n",
       "263         Cardnum_number0/7  0.078556    0.071511\n",
       "343       Merchnum_number0/30  0.105943    0.013841\n",
       "347  card_state_actual/max_30  0.116539    0.038062\n",
       "241       Merchnum_number1/30  0.122454    0.025375\n",
       "38        Merchnum_number1/14  0.123388    0.026528\n",
       "..                        ...       ...         ...\n",
       "30         card_merch_total_3  0.676676    0.632065\n",
       "245          card_zip_total_3  0.680122    0.643599\n",
       "200        card_merch_total_7  0.681698    0.634371\n",
       "147          card_zip_total_7  0.686317    0.641292\n",
       "411                     Fraud  1.000000    1.000000\n",
       "\n",
       "[412 rows x 3 columns]"
      ]
     },
     "execution_count": 36,
     "metadata": {},
     "output_type": "execute_result"
    }
   ],
   "source": [
    "KSFDR.sort_values(by='ks_score')"
   ]
  },
  {
   "cell_type": "code",
   "execution_count": 37,
   "metadata": {},
   "outputs": [],
   "source": [
    "KSFDR.to_csv(\"KSFDR.csv\")"
   ]
  },
  {
   "cell_type": "code",
   "execution_count": 38,
   "metadata": {},
   "outputs": [],
   "source": [
    "KSFDR['ks_rank']=KSFDR['ks_score'].rank()\n",
    "KSFDR['fraud_rate_rank']=KSFDR['fraud_rate'].rank()\n",
    "KSFDR['average_rank']=(KSFDR['ks_rank']+KSFDR['fraud_rate_rank'])/2\n",
    "KSFDR=KSFDR.sort_values(by=['average_rank'],ascending=False)"
   ]
  },
  {
   "cell_type": "code",
   "execution_count": 39,
   "metadata": {},
   "outputs": [],
   "source": [
    "###remove about half the variables\n",
    "KSFDR_keep=KSFDR[KSFDR['average_rank']>np.median(KSFDR.average_rank)]"
   ]
  },
  {
   "cell_type": "code",
   "execution_count": 43,
   "metadata": {},
   "outputs": [],
   "source": [
    "traintest_keep_stepwise=traintest_keep2[KSFDR_keep.col_name.to_list()]"
   ]
  },
  {
   "cell_type": "markdown",
   "metadata": {},
   "source": [
    "### Then use a wrapper method to reduce to about 30 to 40 variables. Using stepwise logistic regression.\n"
   ]
  },
  {
   "cell_type": "code",
   "execution_count": 1,
   "metadata": {},
   "outputs": [],
   "source": [
    "model=LogisticRegression()\n",
    "rfecv = RFECV(estimator=model, step=1, cv=2, verbose=0, n_jobs=-1, scoring='roc_auc')\n",
    "rfecv.fit(traintest_keep_stepwise.drop(columns=['Fraud']), traintest_keep_stepwise.Fraud)"
   ]
  },
  {
   "cell_type": "code",
   "execution_count": 48,
   "metadata": {},
   "outputs": [
    {
     "name": "stdout",
     "output_type": "stream",
     "text": [
      "Optimal number of features : 8\n"
     ]
    }
   ],
   "source": [
    "var_selected = pd.DataFrame(sorted(zip(map(lambda x: round(x), rfecv.ranking_),traintest_keep_stepwise.drop(columns=['Fraud']).columns)),\n",
    "                            columns = ['ranking', 'variable']).reset_index()\n",
    "\n",
    "print(\"Optimal number of features : %d\" % rfecv.n_features_)"
   ]
  },
  {
   "cell_type": "code",
   "execution_count": 49,
   "metadata": {},
   "outputs": [
    {
     "data": {
      "text/plain": [
       "[<matplotlib.lines.Line2D at 0x7faddf1a9eb8>]"
      ]
     },
     "execution_count": 49,
     "metadata": {},
     "output_type": "execute_result"
    },
    {
     "data": {
      "image/png": "[encoded data removed]",
      "text/plain": [
       "<Figure size 432x288 with 1 Axes>"
      ]
     },
     "metadata": {
      "needs_background": "light"
     },
     "output_type": "display_data"
    }
   ],
   "source": [
    "plt.figure()\n",
    "plt.xlabel(\"Number of features selected\")\n",
    "plt.ylabel(\"Cross validation score (nb of correct classifications)\")\n",
    "plt.plot(range(1,len(rfecv.grid_scores_)+1),rfecv.grid_scores_)"
   ]
  },
  {
   "cell_type": "code",
   "execution_count": 50,
   "metadata": {},
   "outputs": [],
   "source": [
    "var_30=var_selected[var_selected['index']<=29].variable.to_list()"
   ]
  },
  {
   "cell_type": "code",
   "execution_count": 54,
   "metadata": {},
   "outputs": [
    {
     "data": {
      "text/plain": [
       "['Cardnum_count_past_1',\n",
       " 'Cardnum_total_14',\n",
       " 'Cardnum_total_30',\n",
       " 'card_merch_med_7',\n",
       " 'card_state_count_past_3',\n",
       " 'card_state_total_3',\n",
       " 'card_zip_avg_7',\n",
       " 'state_risk',\n",
       " 'card_zip_med_14',\n",
       " 'card_merch_avg_30',\n",
       " 'card_merch_max_30',\n",
       " 'card_zip_total_30',\n",
       " 'card_state_med_0',\n",
       " 'card_merch_max_7',\n",
       " 'card_zip_max_1',\n",
       " 'card_merch_total_7',\n",
       " 'merch_state_total_1',\n",
       " 'Merchnum_total_14',\n",
       " 'merch_state_total_7',\n",
       " 'card_zip_total_14',\n",
       " 'Merchnum_med_3',\n",
       " 'merch_zip_avg_1',\n",
       " 'merch_zip_max_3',\n",
       " 'card_merch_max_3',\n",
       " 'merch_zip_actual/med_30',\n",
       " 'Merchnum_actual/med_30',\n",
       " 'card_merch_total_3',\n",
       " 'card_merch_actual/total_3',\n",
       " 'Cardnum_amt1/30',\n",
       " 'card_zip_max_30']"
      ]
     },
     "execution_count": 54,
     "metadata": {},
     "output_type": "execute_result"
    }
   ],
   "source": [
    "var_30"
   ]
  },
  {
   "cell_type": "code",
   "execution_count": 53,
   "metadata": {},
   "outputs": [],
   "source": [
    "train_test=traintest_keep_stepwise[var_30+['Fraud']]\n",
    "train_test.to_csv(\"train_test.csv\")"
   ]
  }
 ],
 "metadata": {
  "kernelspec": {
   "display_name": "Python 3",
   "language": "python",
   "name": "python3"
  },
  "language_info": {
   "codemirror_mode": {
    "name": "ipython",
    "version": 3
   },
   "file_extension": ".py",
   "mimetype": "text/x-python",
   "name": "python",
   "nbconvert_exporter": "python",
   "pygments_lexer": "ipython3",
   "version": "3.6.9"
  }
 },
 "nbformat": 4,
 "nbformat_minor": 4
}
